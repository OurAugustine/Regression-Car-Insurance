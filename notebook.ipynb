{
 "cells": [
  {
   "cell_type": "markdown",
   "id": "c3f0e974-faf8-458f-bf2a-06a469d0ea5e",
   "metadata": {},
   "source": [
    "![car](car.jpg)\n",
    "\n",
    "Insurance companies invest a lot of [time and money](https://www.accenture.com/_acnmedia/pdf-84/accenture-machine-leaning-insurance.pdf) into optimizing their pricing and accurately estimating the likelihood that customers will make a claim. In many countries insurance it is a legal requirement to have car insurance in order to drive a vehicle on public roads, so the market is very large!\n",
    "\n",
    "Knowing all of this, On the Road car insurance have requested your services in building a model to predict whether a customer will make a claim on their insurance during the policy period. As they have very little expertise and infrastructure for deploying and monitoring machine learning models, they've asked you to identify the single feature that results in the best performing model, as measured by accuracy, so they can start with a simple model in production.\n",
    "\n",
    "They have supplied you with their customer data as a csv file called `car_insurance.csv`, along with a table detailing the column names and descriptions below."
   ]
  },
  {
   "cell_type": "markdown",
   "id": "8928ffdf-25d6-4ad9-909f-0dd8d10b9a42",
   "metadata": {},
   "source": [
    "\n",
    "\n",
    "## The dataset\n",
    "\n",
    "| Column | Description |\n",
    "|--------|-------------|\n",
    "| `id` | Unique client identifier |\n",
    "| `age` | Client's age: <br> <ul><li>`0`: 16-15</li><li>`1`: 26-39</li><li>`2`: 40-64</li><li>`3`: 65+</li></ul> |\n",
    "| `gender` | Client's gender: <br> <ul><li>`0`: Female</li><li>`1`: Male</li></ul> |\n",
    "| `driving_experience` | Years the client has been driving: <br> <ul><li>`0`: 0-9</li><li>`1`: 10-19</li><li>`2`: 20-29</li><li>`3`: 30+</li></ul> |\n",
    "| `education` | Client's level of education: <br> <ul><li>`0`: No education</li><li>`1`: High school</li><li>`2`: University</li></ul> |\n",
    "| `income` | Client's income level: <br> <ul><li>`0`: Poverty</li><li>`1`: Working class</li><li>`2`: Middle class</li><li>`3`: Upper class</li></ul> |\n",
    "| `credit_score` | Client's credit score (between zero and one) |\n",
    "| `vehicle_ownership` | Client's vehicle ownership status: <br><ul><li>`0`: Does not own their vehilce (paying off finance)</li><li>`1`: Owns their vehicle</li></ul> |\n",
    "| `vehcile_year` | Year of vehicle registration: <br><ul><li>`0`: Before 2015</li><li>`1`: 2015 or later</li></ul> |\n",
    "| `married` | Client's marital status: <br><ul><li>`0`: Not married</li><li>`1`: Married</li></ul> |\n",
    "| `children` | Client's number of children |\n",
    "| `postal_code` | Client's postal code | \n",
    "| `annual_mileage` | Number of miles driven by the client each year |\n",
    "| `vehicle_type` | Type of car: <br> <ul><li>`0`: Sedan</li><li>`1`: Sports car</li></ul> |\n",
    "| `speeding_violations` | Total number of speeding violations received by the client | \n",
    "| `duis` | Number of times the client has been caught driving under the influence of alcohol |\n",
    "| `past_accidents` | Total number of previous accidents the client has been involved in |\n",
    "| `outcome` | Whether the client made a claim on their car insurance (response variable): <br><ul><li>`0`: No claim</li><li>`1`: Made a claim</li></ul> |"
   ]
  },
  {
   "cell_type": "code",
   "execution_count": 31,
   "id": "d0eb4f16-5a99-460d-a5ba-706b7ef0bbe7",
   "metadata": {
    "executionCancelledAt": null,
    "executionTime": 10,
    "id": "bA5ajAmk7XH6",
    "lastExecutedAt": 1703191715363,
    "lastScheduledRunId": null,
    "lastSuccessfullyExecutedCode": "# Import required modules\nimport pandas as pd\nimport numpy as np\nfrom statsmodels.formula.api import logit\n\n# Start coding!"
   },
   "outputs": [],
   "source": [
    "# Import required modules\n",
    "import pandas as pd\n",
    "import numpy as np\n",
    "from statsmodels.formula.api import logit\n",
    "\n",
    "# Start coding!"
   ]
  },
  {
   "cell_type": "code",
   "execution_count": 32,
   "id": "0f33ad29-8851-4266-bc3f-1034b01971f0",
   "metadata": {
    "chartConfig": {
     "bar": {
      "hasRoundedCorners": true,
      "stacked": false
     },
     "type": "bar",
     "version": "v1"
    },
    "executionCancelledAt": null,
    "executionTime": 48,
    "lastExecutedAt": 1703191715411,
    "lastScheduledRunId": null,
    "lastSuccessfullyExecutedCode": "df=pd.read_csv(\"car_insurance.csv\")\ndf.head()",
    "outputsMetadata": {
     "0": {
      "height": 213,
      "type": "dataFrame"
     }
    },
    "visualizeDataframe": false
   },
   "outputs": [
    {
     "data": {
      "application/com.datacamp.data-table.v2+json": {
       "table": {
        "data": {
         "age": [
          3,
          0,
          0,
          0,
          1
         ],
         "annual_mileage": [
          12000,
          16000,
          11000,
          11000,
          12000
         ],
         "children": [
          1,
          0,
          0,
          1,
          0
         ],
         "credit_score": [
          0.6290273139,
          0.357757117,
          0.4931457852,
          0.2060128507,
          0.3883658882
         ],
         "driving_experience": [
          "0-9y",
          "0-9y",
          "0-9y",
          "0-9y",
          "10-19y"
         ],
         "duis": [
          0,
          0,
          0,
          0,
          0
         ],
         "education": [
          "high school",
          "none",
          "high school",
          "university",
          "none"
         ],
         "gender": [
          0,
          1,
          0,
          1,
          1
         ],
         "id": [
          569520,
          750365,
          199901,
          478866,
          731664
         ],
         "income": [
          "upper class",
          "poverty",
          "working class",
          "working class",
          "working class"
         ],
         "index": [
          0,
          1,
          2,
          3,
          4
         ],
         "married": [
          0,
          0,
          0,
          0,
          0
         ],
         "outcome": [
          0,
          1,
          0,
          0,
          1
         ],
         "past_accidents": [
          0,
          0,
          0,
          0,
          1
         ],
         "postal_code": [
          10238,
          10238,
          10238,
          32765,
          32765
         ],
         "speeding_violations": [
          0,
          0,
          0,
          0,
          2
         ],
         "vehicle_ownership": [
          1,
          0,
          1,
          1,
          1
         ],
         "vehicle_type": [
          "sedan",
          "sedan",
          "sedan",
          "sedan",
          "sedan"
         ],
         "vehicle_year": [
          "after 2015",
          "before 2015",
          "before 2015",
          "before 2015",
          "before 2015"
         ]
        },
        "schema": {
         "fields": [
          {
           "name": "index",
           "type": "integer"
          },
          {
           "name": "id",
           "type": "integer"
          },
          {
           "name": "age",
           "type": "integer"
          },
          {
           "name": "gender",
           "type": "integer"
          },
          {
           "name": "driving_experience",
           "type": "string"
          },
          {
           "name": "education",
           "type": "string"
          },
          {
           "name": "income",
           "type": "string"
          },
          {
           "name": "credit_score",
           "type": "number"
          },
          {
           "name": "vehicle_ownership",
           "type": "number"
          },
          {
           "name": "vehicle_year",
           "type": "string"
          },
          {
           "name": "married",
           "type": "number"
          },
          {
           "name": "children",
           "type": "number"
          },
          {
           "name": "postal_code",
           "type": "integer"
          },
          {
           "name": "annual_mileage",
           "type": "number"
          },
          {
           "name": "vehicle_type",
           "type": "string"
          },
          {
           "name": "speeding_violations",
           "type": "integer"
          },
          {
           "name": "duis",
           "type": "integer"
          },
          {
           "name": "past_accidents",
           "type": "integer"
          },
          {
           "name": "outcome",
           "type": "number"
          }
         ],
         "pandas_version": "1.4.0",
         "primaryKey": [
          "index"
         ]
        }
       },
       "total_rows": 5,
       "truncation_type": null
      },
      "text/html": [
       "<div>\n",
       "<style scoped>\n",
       "    .dataframe tbody tr th:only-of-type {\n",
       "        vertical-align: middle;\n",
       "    }\n",
       "\n",
       "    .dataframe tbody tr th {\n",
       "        vertical-align: top;\n",
       "    }\n",
       "\n",
       "    .dataframe thead th {\n",
       "        text-align: right;\n",
       "    }\n",
       "</style>\n",
       "<table border=\"1\" class=\"dataframe\">\n",
       "  <thead>\n",
       "    <tr style=\"text-align: right;\">\n",
       "      <th></th>\n",
       "      <th>id</th>\n",
       "      <th>age</th>\n",
       "      <th>gender</th>\n",
       "      <th>driving_experience</th>\n",
       "      <th>education</th>\n",
       "      <th>income</th>\n",
       "      <th>credit_score</th>\n",
       "      <th>vehicle_ownership</th>\n",
       "      <th>vehicle_year</th>\n",
       "      <th>married</th>\n",
       "      <th>children</th>\n",
       "      <th>postal_code</th>\n",
       "      <th>annual_mileage</th>\n",
       "      <th>vehicle_type</th>\n",
       "      <th>speeding_violations</th>\n",
       "      <th>duis</th>\n",
       "      <th>past_accidents</th>\n",
       "      <th>outcome</th>\n",
       "    </tr>\n",
       "  </thead>\n",
       "  <tbody>\n",
       "    <tr>\n",
       "      <th>0</th>\n",
       "      <td>569520</td>\n",
       "      <td>3</td>\n",
       "      <td>0</td>\n",
       "      <td>0-9y</td>\n",
       "      <td>high school</td>\n",
       "      <td>upper class</td>\n",
       "      <td>0.629027</td>\n",
       "      <td>1.0</td>\n",
       "      <td>after 2015</td>\n",
       "      <td>0.0</td>\n",
       "      <td>1.0</td>\n",
       "      <td>10238</td>\n",
       "      <td>12000.0</td>\n",
       "      <td>sedan</td>\n",
       "      <td>0</td>\n",
       "      <td>0</td>\n",
       "      <td>0</td>\n",
       "      <td>0.0</td>\n",
       "    </tr>\n",
       "    <tr>\n",
       "      <th>1</th>\n",
       "      <td>750365</td>\n",
       "      <td>0</td>\n",
       "      <td>1</td>\n",
       "      <td>0-9y</td>\n",
       "      <td>none</td>\n",
       "      <td>poverty</td>\n",
       "      <td>0.357757</td>\n",
       "      <td>0.0</td>\n",
       "      <td>before 2015</td>\n",
       "      <td>0.0</td>\n",
       "      <td>0.0</td>\n",
       "      <td>10238</td>\n",
       "      <td>16000.0</td>\n",
       "      <td>sedan</td>\n",
       "      <td>0</td>\n",
       "      <td>0</td>\n",
       "      <td>0</td>\n",
       "      <td>1.0</td>\n",
       "    </tr>\n",
       "    <tr>\n",
       "      <th>2</th>\n",
       "      <td>199901</td>\n",
       "      <td>0</td>\n",
       "      <td>0</td>\n",
       "      <td>0-9y</td>\n",
       "      <td>high school</td>\n",
       "      <td>working class</td>\n",
       "      <td>0.493146</td>\n",
       "      <td>1.0</td>\n",
       "      <td>before 2015</td>\n",
       "      <td>0.0</td>\n",
       "      <td>0.0</td>\n",
       "      <td>10238</td>\n",
       "      <td>11000.0</td>\n",
       "      <td>sedan</td>\n",
       "      <td>0</td>\n",
       "      <td>0</td>\n",
       "      <td>0</td>\n",
       "      <td>0.0</td>\n",
       "    </tr>\n",
       "    <tr>\n",
       "      <th>3</th>\n",
       "      <td>478866</td>\n",
       "      <td>0</td>\n",
       "      <td>1</td>\n",
       "      <td>0-9y</td>\n",
       "      <td>university</td>\n",
       "      <td>working class</td>\n",
       "      <td>0.206013</td>\n",
       "      <td>1.0</td>\n",
       "      <td>before 2015</td>\n",
       "      <td>0.0</td>\n",
       "      <td>1.0</td>\n",
       "      <td>32765</td>\n",
       "      <td>11000.0</td>\n",
       "      <td>sedan</td>\n",
       "      <td>0</td>\n",
       "      <td>0</td>\n",
       "      <td>0</td>\n",
       "      <td>0.0</td>\n",
       "    </tr>\n",
       "    <tr>\n",
       "      <th>4</th>\n",
       "      <td>731664</td>\n",
       "      <td>1</td>\n",
       "      <td>1</td>\n",
       "      <td>10-19y</td>\n",
       "      <td>none</td>\n",
       "      <td>working class</td>\n",
       "      <td>0.388366</td>\n",
       "      <td>1.0</td>\n",
       "      <td>before 2015</td>\n",
       "      <td>0.0</td>\n",
       "      <td>0.0</td>\n",
       "      <td>32765</td>\n",
       "      <td>12000.0</td>\n",
       "      <td>sedan</td>\n",
       "      <td>2</td>\n",
       "      <td>0</td>\n",
       "      <td>1</td>\n",
       "      <td>1.0</td>\n",
       "    </tr>\n",
       "  </tbody>\n",
       "</table>\n",
       "</div>"
      ],
      "text/plain": [
       "       id  age  gender  ... duis past_accidents outcome\n",
       "0  569520    3       0  ...    0              0     0.0\n",
       "1  750365    0       1  ...    0              0     1.0\n",
       "2  199901    0       0  ...    0              0     0.0\n",
       "3  478866    0       1  ...    0              0     0.0\n",
       "4  731664    1       1  ...    0              1     1.0\n",
       "\n",
       "[5 rows x 18 columns]"
      ]
     },
     "execution_count": 32,
     "metadata": {},
     "output_type": "execute_result"
    }
   ],
   "source": [
    "df=pd.read_csv(\"car_insurance.csv\")\n",
    "df.head()"
   ]
  },
  {
   "cell_type": "code",
   "execution_count": 33,
   "id": "34c4b9c5-66f7-48a9-9414-fc7736912ca5",
   "metadata": {
    "executionCancelledAt": null,
    "executionTime": 48,
    "lastExecutedAt": 1703191715459,
    "lastScheduledRunId": null,
    "lastSuccessfullyExecutedCode": "#droping na and keeping safe my original fine\ndf2=df.drop_duplicates()\ndf2.info()",
    "outputsMetadata": {
     "0": {
      "height": 517,
      "type": "stream"
     }
    }
   },
   "outputs": [
    {
     "name": "stdout",
     "output_type": "stream",
     "text": [
      "<class 'pandas.core.frame.DataFrame'>\n",
      "Int64Index: 10000 entries, 0 to 9999\n",
      "Data columns (total 18 columns):\n",
      " #   Column               Non-Null Count  Dtype  \n",
      "---  ------               --------------  -----  \n",
      " 0   id                   10000 non-null  int64  \n",
      " 1   age                  10000 non-null  int64  \n",
      " 2   gender               10000 non-null  int64  \n",
      " 3   driving_experience   10000 non-null  object \n",
      " 4   education            10000 non-null  object \n",
      " 5   income               10000 non-null  object \n",
      " 6   credit_score         9018 non-null   float64\n",
      " 7   vehicle_ownership    10000 non-null  float64\n",
      " 8   vehicle_year         10000 non-null  object \n",
      " 9   married              10000 non-null  float64\n",
      " 10  children             10000 non-null  float64\n",
      " 11  postal_code          10000 non-null  int64  \n",
      " 12  annual_mileage       9043 non-null   float64\n",
      " 13  vehicle_type         10000 non-null  object \n",
      " 14  speeding_violations  10000 non-null  int64  \n",
      " 15  duis                 10000 non-null  int64  \n",
      " 16  past_accidents       10000 non-null  int64  \n",
      " 17  outcome              10000 non-null  float64\n",
      "dtypes: float64(6), int64(7), object(5)\n",
      "memory usage: 1.4+ MB\n"
     ]
    }
   ],
   "source": [
    "#droping na and keeping safe my original fine\n",
    "df2=df.drop_duplicates()\n",
    "df2.info()"
   ]
  },
  {
   "cell_type": "code",
   "execution_count": 34,
   "id": "8df8fe5d-e336-440c-b4a8-6298531466ef",
   "metadata": {
    "executionCancelledAt": null,
    "executionTime": 48,
    "lastExecutedAt": 1703191715507,
    "lastScheduledRunId": null,
    "lastSuccessfullyExecutedCode": "#cleaning data\n#1)by first filling na with means \nmean_credit= df2['credit_score'].mean()\ndf2['credit_score']=df2['credit_score'].fillna(mean_credit)\nmean_mil= df2['annual_mileage'].mean()\ndf2['annual_mileage']=df2['annual_mileage'].fillna(mean_mil)\ndf2.info()",
    "outputsMetadata": {
     "0": {
      "height": 517,
      "type": "stream"
     }
    }
   },
   "outputs": [
    {
     "name": "stdout",
     "output_type": "stream",
     "text": [
      "<class 'pandas.core.frame.DataFrame'>\n",
      "Int64Index: 10000 entries, 0 to 9999\n",
      "Data columns (total 18 columns):\n",
      " #   Column               Non-Null Count  Dtype  \n",
      "---  ------               --------------  -----  \n",
      " 0   id                   10000 non-null  int64  \n",
      " 1   age                  10000 non-null  int64  \n",
      " 2   gender               10000 non-null  int64  \n",
      " 3   driving_experience   10000 non-null  object \n",
      " 4   education            10000 non-null  object \n",
      " 5   income               10000 non-null  object \n",
      " 6   credit_score         10000 non-null  float64\n",
      " 7   vehicle_ownership    10000 non-null  float64\n",
      " 8   vehicle_year         10000 non-null  object \n",
      " 9   married              10000 non-null  float64\n",
      " 10  children             10000 non-null  float64\n",
      " 11  postal_code          10000 non-null  int64  \n",
      " 12  annual_mileage       10000 non-null  float64\n",
      " 13  vehicle_type         10000 non-null  object \n",
      " 14  speeding_violations  10000 non-null  int64  \n",
      " 15  duis                 10000 non-null  int64  \n",
      " 16  past_accidents       10000 non-null  int64  \n",
      " 17  outcome              10000 non-null  float64\n",
      "dtypes: float64(6), int64(7), object(5)\n",
      "memory usage: 1.4+ MB\n"
     ]
    }
   ],
   "source": [
    "#cleaning data\n",
    "#1)by first filling na with means \n",
    "mean_credit= df2['credit_score'].mean()\n",
    "df2['credit_score']=df2['credit_score'].fillna(mean_credit)\n",
    "mean_mil= df2['annual_mileage'].mean()\n",
    "df2['annual_mileage']=df2['annual_mileage'].fillna(mean_mil)\n",
    "df2.info()"
   ]
  },
  {
   "cell_type": "code",
   "execution_count": 35,
   "id": "09274b1b-3156-4f95-85f4-8fd8fa8c2e6b",
   "metadata": {
    "executionCancelledAt": null,
    "executionTime": 48,
    "lastExecutedAt": 1703191715555,
    "lastScheduledRunId": null,
    "lastSuccessfullyExecutedCode": "print(df['driving_experience'].unique())\nprint(df['education'].unique())\nprint(df['income'].unique())\nprint(df['vehicle_type'].unique())",
    "outputsMetadata": {
     "0": {
      "height": 97,
      "type": "stream"
     }
    }
   },
   "outputs": [
    {
     "name": "stdout",
     "output_type": "stream",
     "text": [
      "['0-9y' '10-19y' '20-29y' '30y+']\n",
      "['high school' 'none' 'university']\n",
      "['upper class' 'poverty' 'working class' 'middle class']\n",
      "['sedan' 'sports car']\n"
     ]
    }
   ],
   "source": [
    "print(df['driving_experience'].unique())\n",
    "print(df['education'].unique())\n",
    "print(df['income'].unique())\n",
    "print(df['vehicle_type'].unique())"
   ]
  },
  {
   "cell_type": "markdown",
   "id": "f78d22d7-099e-40b9-b2ab-a667364e8127",
   "metadata": {},
   "source": [
    "now that i know the uniques i will try to replace them with numbers so as to run them well with my model\n"
   ]
  },
  {
   "cell_type": "code",
   "execution_count": 36,
   "id": "79d15b3b-2912-469b-82f4-97fb004c8445",
   "metadata": {
    "executionCancelledAt": null,
    "executionTime": 51,
    "lastExecutedAt": 1703191715606,
    "lastScheduledRunId": null,
    "lastSuccessfullyExecutedCode": "#this function will be useed to replace string with n.o in the drive experience colum\ndef drive(x):\n    if x == '0-9y':\n        return 0\n    elif x == '10-19y':\n        return 1\n    elif x == '20-29y' :\n        return 2\n    else:\n        return 3\n#this next one will work on the education colums\ndef educ(x):\n    if x == 'none':\n        return 0\n    elif x == 'high school':\n        return 1\n    elif x == 'university':\n        return 2\n    else:\n        return 1\n#function for the income column\ndef inc(x):\n    if x == 'poverty':\n        return 0\n    elif x == 'working class':\n        return 1\n    elif x == 'middle class':\n        return 2\n    else:\n        return 3\n#function for the vihicle coumn\ndef vih(x):\n    if x == 'sedan':\n        return 0\n    else:\n        return 1"
   },
   "outputs": [],
   "source": [
    "#this function will be useed to replace string with n.o in the drive experience colum\n",
    "def drive(x):\n",
    "    if x == '0-9y':\n",
    "        return 0\n",
    "    elif x == '10-19y':\n",
    "        return 1\n",
    "    elif x == '20-29y' :\n",
    "        return 2\n",
    "    else:\n",
    "        return 3\n",
    "#this next one will work on the education colums\n",
    "def educ(x):\n",
    "    if x == 'none':\n",
    "        return 0\n",
    "    elif x == 'high school':\n",
    "        return 1\n",
    "    elif x == 'university':\n",
    "        return 2\n",
    "    else:\n",
    "        return 1\n",
    "#function for the income column\n",
    "def inc(x):\n",
    "    if x == 'poverty':\n",
    "        return 0\n",
    "    elif x == 'working class':\n",
    "        return 1\n",
    "    elif x == 'middle class':\n",
    "        return 2\n",
    "    else:\n",
    "        return 3\n",
    "#function for the vihicle coumn\n",
    "def vih(x):\n",
    "    if x == 'sedan':\n",
    "        return 0\n",
    "    else:\n",
    "        return 1"
   ]
  },
  {
   "cell_type": "code",
   "execution_count": 37,
   "id": "48921df5-03d3-4a9b-9409-c4a7b8cbdb59",
   "metadata": {
    "executionCancelledAt": null,
    "executionTime": 48,
    "lastExecutedAt": 1703191715655,
    "lastScheduledRunId": null,
    "lastSuccessfullyExecutedCode": "#calling all the functions now \ndf2['driving_experience']= df['driving_experience'].apply(drive)\ndf2['education']= df['education'].apply(educ)\ndf2['income']= df['income'].apply(inc)\ndf2['income']= df['income'].apply(inc)\ndf2.head()",
    "outputsMetadata": {
     "0": {
      "height": 213,
      "type": "dataFrame"
     }
    }
   },
   "outputs": [
    {
     "data": {
      "application/com.datacamp.data-table.v2+json": {
       "table": {
        "data": {
         "age": [
          3,
          0,
          0,
          0,
          1
         ],
         "annual_mileage": [
          12000,
          16000,
          11000,
          11000,
          12000
         ],
         "children": [
          1,
          0,
          0,
          1,
          0
         ],
         "credit_score": [
          0.6290273139,
          0.357757117,
          0.4931457852,
          0.2060128507,
          0.3883658882
         ],
         "driving_experience": [
          0,
          0,
          0,
          0,
          1
         ],
         "duis": [
          0,
          0,
          0,
          0,
          0
         ],
         "education": [
          1,
          0,
          1,
          2,
          0
         ],
         "gender": [
          0,
          1,
          0,
          1,
          1
         ],
         "id": [
          569520,
          750365,
          199901,
          478866,
          731664
         ],
         "income": [
          3,
          0,
          1,
          1,
          1
         ],
         "index": [
          0,
          1,
          2,
          3,
          4
         ],
         "married": [
          0,
          0,
          0,
          0,
          0
         ],
         "outcome": [
          0,
          1,
          0,
          0,
          1
         ],
         "past_accidents": [
          0,
          0,
          0,
          0,
          1
         ],
         "postal_code": [
          10238,
          10238,
          10238,
          32765,
          32765
         ],
         "speeding_violations": [
          0,
          0,
          0,
          0,
          2
         ],
         "vehicle_ownership": [
          1,
          0,
          1,
          1,
          1
         ],
         "vehicle_type": [
          "sedan",
          "sedan",
          "sedan",
          "sedan",
          "sedan"
         ],
         "vehicle_year": [
          "after 2015",
          "before 2015",
          "before 2015",
          "before 2015",
          "before 2015"
         ]
        },
        "schema": {
         "fields": [
          {
           "name": "index",
           "type": "integer"
          },
          {
           "name": "id",
           "type": "integer"
          },
          {
           "name": "age",
           "type": "integer"
          },
          {
           "name": "gender",
           "type": "integer"
          },
          {
           "name": "driving_experience",
           "type": "integer"
          },
          {
           "name": "education",
           "type": "integer"
          },
          {
           "name": "income",
           "type": "integer"
          },
          {
           "name": "credit_score",
           "type": "number"
          },
          {
           "name": "vehicle_ownership",
           "type": "number"
          },
          {
           "name": "vehicle_year",
           "type": "string"
          },
          {
           "name": "married",
           "type": "number"
          },
          {
           "name": "children",
           "type": "number"
          },
          {
           "name": "postal_code",
           "type": "integer"
          },
          {
           "name": "annual_mileage",
           "type": "number"
          },
          {
           "name": "vehicle_type",
           "type": "string"
          },
          {
           "name": "speeding_violations",
           "type": "integer"
          },
          {
           "name": "duis",
           "type": "integer"
          },
          {
           "name": "past_accidents",
           "type": "integer"
          },
          {
           "name": "outcome",
           "type": "number"
          }
         ],
         "pandas_version": "1.4.0",
         "primaryKey": [
          "index"
         ]
        }
       },
       "total_rows": 5,
       "truncation_type": null
      },
      "text/html": [
       "<div>\n",
       "<style scoped>\n",
       "    .dataframe tbody tr th:only-of-type {\n",
       "        vertical-align: middle;\n",
       "    }\n",
       "\n",
       "    .dataframe tbody tr th {\n",
       "        vertical-align: top;\n",
       "    }\n",
       "\n",
       "    .dataframe thead th {\n",
       "        text-align: right;\n",
       "    }\n",
       "</style>\n",
       "<table border=\"1\" class=\"dataframe\">\n",
       "  <thead>\n",
       "    <tr style=\"text-align: right;\">\n",
       "      <th></th>\n",
       "      <th>id</th>\n",
       "      <th>age</th>\n",
       "      <th>gender</th>\n",
       "      <th>driving_experience</th>\n",
       "      <th>education</th>\n",
       "      <th>income</th>\n",
       "      <th>credit_score</th>\n",
       "      <th>vehicle_ownership</th>\n",
       "      <th>vehicle_year</th>\n",
       "      <th>married</th>\n",
       "      <th>children</th>\n",
       "      <th>postal_code</th>\n",
       "      <th>annual_mileage</th>\n",
       "      <th>vehicle_type</th>\n",
       "      <th>speeding_violations</th>\n",
       "      <th>duis</th>\n",
       "      <th>past_accidents</th>\n",
       "      <th>outcome</th>\n",
       "    </tr>\n",
       "  </thead>\n",
       "  <tbody>\n",
       "    <tr>\n",
       "      <th>0</th>\n",
       "      <td>569520</td>\n",
       "      <td>3</td>\n",
       "      <td>0</td>\n",
       "      <td>0</td>\n",
       "      <td>1</td>\n",
       "      <td>3</td>\n",
       "      <td>0.629027</td>\n",
       "      <td>1.0</td>\n",
       "      <td>after 2015</td>\n",
       "      <td>0.0</td>\n",
       "      <td>1.0</td>\n",
       "      <td>10238</td>\n",
       "      <td>12000.0</td>\n",
       "      <td>sedan</td>\n",
       "      <td>0</td>\n",
       "      <td>0</td>\n",
       "      <td>0</td>\n",
       "      <td>0.0</td>\n",
       "    </tr>\n",
       "    <tr>\n",
       "      <th>1</th>\n",
       "      <td>750365</td>\n",
       "      <td>0</td>\n",
       "      <td>1</td>\n",
       "      <td>0</td>\n",
       "      <td>0</td>\n",
       "      <td>0</td>\n",
       "      <td>0.357757</td>\n",
       "      <td>0.0</td>\n",
       "      <td>before 2015</td>\n",
       "      <td>0.0</td>\n",
       "      <td>0.0</td>\n",
       "      <td>10238</td>\n",
       "      <td>16000.0</td>\n",
       "      <td>sedan</td>\n",
       "      <td>0</td>\n",
       "      <td>0</td>\n",
       "      <td>0</td>\n",
       "      <td>1.0</td>\n",
       "    </tr>\n",
       "    <tr>\n",
       "      <th>2</th>\n",
       "      <td>199901</td>\n",
       "      <td>0</td>\n",
       "      <td>0</td>\n",
       "      <td>0</td>\n",
       "      <td>1</td>\n",
       "      <td>1</td>\n",
       "      <td>0.493146</td>\n",
       "      <td>1.0</td>\n",
       "      <td>before 2015</td>\n",
       "      <td>0.0</td>\n",
       "      <td>0.0</td>\n",
       "      <td>10238</td>\n",
       "      <td>11000.0</td>\n",
       "      <td>sedan</td>\n",
       "      <td>0</td>\n",
       "      <td>0</td>\n",
       "      <td>0</td>\n",
       "      <td>0.0</td>\n",
       "    </tr>\n",
       "    <tr>\n",
       "      <th>3</th>\n",
       "      <td>478866</td>\n",
       "      <td>0</td>\n",
       "      <td>1</td>\n",
       "      <td>0</td>\n",
       "      <td>2</td>\n",
       "      <td>1</td>\n",
       "      <td>0.206013</td>\n",
       "      <td>1.0</td>\n",
       "      <td>before 2015</td>\n",
       "      <td>0.0</td>\n",
       "      <td>1.0</td>\n",
       "      <td>32765</td>\n",
       "      <td>11000.0</td>\n",
       "      <td>sedan</td>\n",
       "      <td>0</td>\n",
       "      <td>0</td>\n",
       "      <td>0</td>\n",
       "      <td>0.0</td>\n",
       "    </tr>\n",
       "    <tr>\n",
       "      <th>4</th>\n",
       "      <td>731664</td>\n",
       "      <td>1</td>\n",
       "      <td>1</td>\n",
       "      <td>1</td>\n",
       "      <td>0</td>\n",
       "      <td>1</td>\n",
       "      <td>0.388366</td>\n",
       "      <td>1.0</td>\n",
       "      <td>before 2015</td>\n",
       "      <td>0.0</td>\n",
       "      <td>0.0</td>\n",
       "      <td>32765</td>\n",
       "      <td>12000.0</td>\n",
       "      <td>sedan</td>\n",
       "      <td>2</td>\n",
       "      <td>0</td>\n",
       "      <td>1</td>\n",
       "      <td>1.0</td>\n",
       "    </tr>\n",
       "  </tbody>\n",
       "</table>\n",
       "</div>"
      ],
      "text/plain": [
       "       id  age  gender  ...  duis  past_accidents  outcome\n",
       "0  569520    3       0  ...     0               0      0.0\n",
       "1  750365    0       1  ...     0               0      1.0\n",
       "2  199901    0       0  ...     0               0      0.0\n",
       "3  478866    0       1  ...     0               0      0.0\n",
       "4  731664    1       1  ...     0               1      1.0\n",
       "\n",
       "[5 rows x 18 columns]"
      ]
     },
     "execution_count": 37,
     "metadata": {},
     "output_type": "execute_result"
    }
   ],
   "source": [
    "#calling all the functions now \n",
    "df2['driving_experience']= df['driving_experience'].apply(drive)\n",
    "df2['education']= df['education'].apply(educ)\n",
    "df2['income']= df['income'].apply(inc)\n",
    "df2['income']= df['income'].apply(inc)\n",
    "df2.head()"
   ]
  },
  {
   "cell_type": "markdown",
   "id": "00df2cc9-3d62-450f-a6bc-3d9dfa3e4117",
   "metadata": {},
   "source": [
    "CLEANING IS  DONE NOW WE GET TO RUNIG THE MODEL"
   ]
  },
  {
   "cell_type": "code",
   "execution_count": 38,
   "id": "a8844f41-3f55-4049-a559-dacfe2368ed2",
   "metadata": {
    "executionCancelledAt": null,
    "executionTime": 48,
    "lastExecutedAt": 1703191715703,
    "lastScheduledRunId": null,
    "lastSuccessfullyExecutedCode": "from statsmodels.formula.api import logit"
   },
   "outputs": [],
   "source": [
    "from statsmodels.formula.api import logit"
   ]
  },
  {
   "cell_type": "code",
   "execution_count": 39,
   "id": "9085e220-d496-4b44-ad91-9f1b5f213e81",
   "metadata": {
    "executionCancelledAt": null,
    "executionTime": 51,
    "lastExecutedAt": 1703191715755,
    "lastScheduledRunId": null,
    "lastSuccessfullyExecutedCode": "models=[]\nfeatures = df2.drop(columns=['outcome', 'id']).columns\n\n# Display the list of features\nprint(features)",
    "outputsMetadata": {
     "0": {
      "height": 117,
      "type": "stream"
     }
    }
   },
   "outputs": [
    {
     "name": "stdout",
     "output_type": "stream",
     "text": [
      "Index(['age', 'gender', 'driving_experience', 'education', 'income',\n",
      "       'credit_score', 'vehicle_ownership', 'vehicle_year', 'married',\n",
      "       'children', 'postal_code', 'annual_mileage', 'vehicle_type',\n",
      "       'speeding_violations', 'duis', 'past_accidents'],\n",
      "      dtype='object')\n"
     ]
    }
   ],
   "source": [
    "models=[]\n",
    "features = df2.drop(columns=['outcome', 'id']).columns\n",
    "\n",
    "# Display the list of features\n",
    "print(features)"
   ]
  },
  {
   "cell_type": "code",
   "execution_count": 40,
   "id": "bc23bb41-74bc-47bb-9b49-c9e57f2e2ba2",
   "metadata": {
    "executionCancelledAt": null,
    "executionTime": 53,
    "lastExecutedAt": 1703191715808,
    "lastScheduledRunId": null,
    "lastSuccessfullyExecutedCode": "#creating the formulae list\nformulae=[]\nfor col in features:\n    formulae.append(\"outcome~\"+col)\n    \nprint(formulae)",
    "outputsMetadata": {
     "0": {
      "height": 77,
      "type": "stream"
     }
    }
   },
   "outputs": [
    {
     "name": "stdout",
     "output_type": "stream",
     "text": [
      "['outcome~age', 'outcome~gender', 'outcome~driving_experience', 'outcome~education', 'outcome~income', 'outcome~credit_score', 'outcome~vehicle_ownership', 'outcome~vehicle_year', 'outcome~married', 'outcome~children', 'outcome~postal_code', 'outcome~annual_mileage', 'outcome~vehicle_type', 'outcome~speeding_violations', 'outcome~duis', 'outcome~past_accidents']\n"
     ]
    }
   ],
   "source": [
    "#creating the formulae list\n",
    "formulae=[]\n",
    "for col in features:\n",
    "    formulae.append(\"outcome~\"+col)\n",
    "    \n",
    "print(formulae)"
   ]
  },
  {
   "cell_type": "code",
   "execution_count": 41,
   "id": "30b1324c-ddd3-4412-a486-cb27a6b480a5",
   "metadata": {
    "executionCancelledAt": null,
    "executionTime": null,
    "lastExecutedAt": null,
    "lastScheduledRunId": null,
    "lastSuccessfullyExecutedCode": null,
    "outputsMetadata": {
     "0": {
      "height": 616,
      "type": "stream"
     }
    }
   },
   "outputs": [
    {
     "name": "stdout",
     "output_type": "stream",
     "text": [
      "Optimization terminated successfully.\n",
      "         Current function value: 0.511794\n",
      "         Iterations 6\n",
      "Optimization terminated successfully.\n",
      "         Current function value: 0.615951\n",
      "         Iterations 5\n",
      "Optimization terminated successfully.\n",
      "         Current function value: 0.467390\n",
      "         Iterations 7\n",
      "Optimization terminated successfully.\n",
      "         Current function value: 0.603848\n",
      "         Iterations 5\n",
      "Optimization terminated successfully.\n",
      "         Current function value: 0.531580\n",
      "         Iterations 5\n",
      "Optimization terminated successfully.\n",
      "         Current function value: 0.572557\n",
      "         Iterations 6\n",
      "Optimization terminated successfully.\n",
      "         Current function value: 0.552412\n",
      "         Iterations 5\n",
      "Optimization terminated successfully.\n",
      "         Current function value: 0.572668\n",
      "         Iterations 6\n",
      "Optimization terminated successfully.\n",
      "         Current function value: 0.586659\n",
      "         Iterations 5\n",
      "Optimization terminated successfully.\n",
      "         Current function value: 0.595431\n",
      "         Iterations 5\n",
      "Optimization terminated successfully.\n",
      "         Current function value: 0.617345\n",
      "         Iterations 5\n",
      "Optimization terminated successfully.\n",
      "         Current function value: 0.605716\n",
      "         Iterations 5\n",
      "Optimization terminated successfully.\n",
      "         Current function value: 0.621700\n",
      "         Iterations 5\n",
      "Optimization terminated successfully.\n",
      "         Current function value: 0.558922\n",
      "         Iterations 7\n",
      "Optimization terminated successfully.\n",
      "         Current function value: 0.598699\n",
      "         Iterations 6\n",
      "Optimization terminated successfully.\n",
      "         Current function value: 0.549220\n",
      "         Iterations 7\n",
      "['mdl_age', 'mdl_gender', 'mdl_driving_experience', 'mdl_education', 'mdl_income', 'mdl_credit_score', 'mdl_vehicle_ownership', 'mdl_vehicle_year', 'mdl_married', 'mdl_children', 'mdl_postal_code', 'mdl_annual_mileage', 'mdl_vehicle_type', 'mdl_speeding_violations', 'mdl_duis', 'mdl_past_accidents']\n",
      "[<statsmodels.discrete.discrete_model.BinaryResultsWrapper object at 0x7f731bd95c10>, <statsmodels.discrete.discrete_model.BinaryResultsWrapper object at 0x7f731bd95e80>, <statsmodels.discrete.discrete_model.BinaryResultsWrapper object at 0x7f731bdbae50>, <statsmodels.discrete.discrete_model.BinaryResultsWrapper object at 0x7f731c808400>, <statsmodels.discrete.discrete_model.BinaryResultsWrapper object at 0x7f731c820fd0>, <statsmodels.discrete.discrete_model.BinaryResultsWrapper object at 0x7f731c806730>, <statsmodels.discrete.discrete_model.BinaryResultsWrapper object at 0x7f731c831cd0>, <statsmodels.discrete.discrete_model.BinaryResultsWrapper object at 0x7f731c831760>, <statsmodels.discrete.discrete_model.BinaryResultsWrapper object at 0x7f731c810d90>, <statsmodels.discrete.discrete_model.BinaryResultsWrapper object at 0x7f731c8003d0>, <statsmodels.discrete.discrete_model.BinaryResultsWrapper object at 0x7f731c80fac0>, <statsmodels.discrete.discrete_model.BinaryResultsWrapper object at 0x7f731bdb8ca0>, <statsmodels.discrete.discrete_model.BinaryResultsWrapper object at 0x7f731c80c460>, <statsmodels.discrete.discrete_model.BinaryResultsWrapper object at 0x7f731bd8ef40>, <statsmodels.discrete.discrete_model.BinaryResultsWrapper object at 0x7f731c838940>, <statsmodels.discrete.discrete_model.BinaryResultsWrapper object at 0x7f731c838ee0>]\n"
     ]
    }
   ],
   "source": [
    "#creating the models\n",
    "model_names=[]\n",
    "for col in features:\n",
    "    mdl_name=\"mdl_\"+col\n",
    "    model_names.append(mdl_name)\n",
    "    mdl= logit(\"outcome~\"+col,data=df2).fit()\n",
    "    models.append(mdl)\n",
    "print(model_names)\n",
    "print(models)"
   ]
  },
  {
   "cell_type": "markdown",
   "id": "0b1a4e9d-9ba4-4bd0-80cd-9119c4eb5794",
   "metadata": {},
   "source": [
    "GETING THE ACCURACY \n",
    "SINCE INTHE CON_TABLE TN IS AT [0,0] AND TRU POSITIVE AT [1,1]"
   ]
  },
  {
   "cell_type": "code",
   "execution_count": 42,
   "id": "fcb25819-8bae-45f6-aae3-0ee5293b11ab",
   "metadata": {
    "executionCancelledAt": null,
    "executionTime": 49,
    "lastExecutedAt": 1703191716372,
    "lastScheduledRunId": null,
    "lastSuccessfullyExecutedCode": "accuracy_t=[]\nfor x in models:\n    conf_tabl=x.pred_table()\n    ac=(conf_tabl[0,0]+conf_tabl[1,1])/10000\n    accuracy_t.append(ac)\ndf_ac=pd.DataFrame({\"model\": model_names , \"accuracy\": accuracy_t})\ndf_ac.sort_values(by=\"accuracy\",ascending = False)",
    "outputsMetadata": {
     "0": {
      "height": 323,
      "type": "dataFrame"
     }
    }
   },
   "outputs": [
    {
     "data": {
      "application/com.datacamp.data-table.v2+json": {
       "table": {
        "data": {
         "accuracy": [
          0.7771,
          0.7747,
          0.7425,
          0.7351,
          0.7054,
          0.6904,
          0.6867,
          0.6867,
          0.6867,
          0.6867,
          0.6867,
          0.6867,
          0.6867,
          0.6867,
          0.6867,
          0.6867
         ],
         "index": [
          2,
          0,
          4,
          6,
          5,
          11,
          1,
          3,
          7,
          8,
          9,
          10,
          12,
          13,
          14,
          15
         ],
         "model": [
          "mdl_driving_experience",
          "mdl_age",
          "mdl_income",
          "mdl_vehicle_ownership",
          "mdl_credit_score",
          "mdl_annual_mileage",
          "mdl_gender",
          "mdl_education",
          "mdl_vehicle_year",
          "mdl_married",
          "mdl_children",
          "mdl_postal_code",
          "mdl_vehicle_type",
          "mdl_speeding_violations",
          "mdl_duis",
          "mdl_past_accidents"
         ]
        },
        "schema": {
         "fields": [
          {
           "name": "index",
           "type": "integer"
          },
          {
           "name": "model",
           "type": "string"
          },
          {
           "name": "accuracy",
           "type": "number"
          }
         ],
         "pandas_version": "1.4.0",
         "primaryKey": [
          "index"
         ]
        }
       },
       "total_rows": 16,
       "truncation_type": null
      },
      "text/html": [
       "<div>\n",
       "<style scoped>\n",
       "    .dataframe tbody tr th:only-of-type {\n",
       "        vertical-align: middle;\n",
       "    }\n",
       "\n",
       "    .dataframe tbody tr th {\n",
       "        vertical-align: top;\n",
       "    }\n",
       "\n",
       "    .dataframe thead th {\n",
       "        text-align: right;\n",
       "    }\n",
       "</style>\n",
       "<table border=\"1\" class=\"dataframe\">\n",
       "  <thead>\n",
       "    <tr style=\"text-align: right;\">\n",
       "      <th></th>\n",
       "      <th>model</th>\n",
       "      <th>accuracy</th>\n",
       "    </tr>\n",
       "  </thead>\n",
       "  <tbody>\n",
       "    <tr>\n",
       "      <th>2</th>\n",
       "      <td>mdl_driving_experience</td>\n",
       "      <td>0.7771</td>\n",
       "    </tr>\n",
       "    <tr>\n",
       "      <th>0</th>\n",
       "      <td>mdl_age</td>\n",
       "      <td>0.7747</td>\n",
       "    </tr>\n",
       "    <tr>\n",
       "      <th>4</th>\n",
       "      <td>mdl_income</td>\n",
       "      <td>0.7425</td>\n",
       "    </tr>\n",
       "    <tr>\n",
       "      <th>6</th>\n",
       "      <td>mdl_vehicle_ownership</td>\n",
       "      <td>0.7351</td>\n",
       "    </tr>\n",
       "    <tr>\n",
       "      <th>5</th>\n",
       "      <td>mdl_credit_score</td>\n",
       "      <td>0.7054</td>\n",
       "    </tr>\n",
       "    <tr>\n",
       "      <th>11</th>\n",
       "      <td>mdl_annual_mileage</td>\n",
       "      <td>0.6904</td>\n",
       "    </tr>\n",
       "    <tr>\n",
       "      <th>1</th>\n",
       "      <td>mdl_gender</td>\n",
       "      <td>0.6867</td>\n",
       "    </tr>\n",
       "    <tr>\n",
       "      <th>3</th>\n",
       "      <td>mdl_education</td>\n",
       "      <td>0.6867</td>\n",
       "    </tr>\n",
       "    <tr>\n",
       "      <th>7</th>\n",
       "      <td>mdl_vehicle_year</td>\n",
       "      <td>0.6867</td>\n",
       "    </tr>\n",
       "    <tr>\n",
       "      <th>8</th>\n",
       "      <td>mdl_married</td>\n",
       "      <td>0.6867</td>\n",
       "    </tr>\n",
       "    <tr>\n",
       "      <th>9</th>\n",
       "      <td>mdl_children</td>\n",
       "      <td>0.6867</td>\n",
       "    </tr>\n",
       "    <tr>\n",
       "      <th>10</th>\n",
       "      <td>mdl_postal_code</td>\n",
       "      <td>0.6867</td>\n",
       "    </tr>\n",
       "    <tr>\n",
       "      <th>12</th>\n",
       "      <td>mdl_vehicle_type</td>\n",
       "      <td>0.6867</td>\n",
       "    </tr>\n",
       "    <tr>\n",
       "      <th>13</th>\n",
       "      <td>mdl_speeding_violations</td>\n",
       "      <td>0.6867</td>\n",
       "    </tr>\n",
       "    <tr>\n",
       "      <th>14</th>\n",
       "      <td>mdl_duis</td>\n",
       "      <td>0.6867</td>\n",
       "    </tr>\n",
       "    <tr>\n",
       "      <th>15</th>\n",
       "      <td>mdl_past_accidents</td>\n",
       "      <td>0.6867</td>\n",
       "    </tr>\n",
       "  </tbody>\n",
       "</table>\n",
       "</div>"
      ],
      "text/plain": [
       "                      model  accuracy\n",
       "2    mdl_driving_experience    0.7771\n",
       "0                   mdl_age    0.7747\n",
       "4                mdl_income    0.7425\n",
       "6     mdl_vehicle_ownership    0.7351\n",
       "5          mdl_credit_score    0.7054\n",
       "11       mdl_annual_mileage    0.6904\n",
       "1                mdl_gender    0.6867\n",
       "3             mdl_education    0.6867\n",
       "7          mdl_vehicle_year    0.6867\n",
       "8               mdl_married    0.6867\n",
       "9              mdl_children    0.6867\n",
       "10          mdl_postal_code    0.6867\n",
       "12         mdl_vehicle_type    0.6867\n",
       "13  mdl_speeding_violations    0.6867\n",
       "14                 mdl_duis    0.6867\n",
       "15       mdl_past_accidents    0.6867"
      ]
     },
     "execution_count": 42,
     "metadata": {},
     "output_type": "execute_result"
    }
   ],
   "source": [
    "accuracy_t=[]\n",
    "for x in models:\n",
    "    conf_tabl=x.pred_table()\n",
    "    ac=(conf_tabl[0,0]+conf_tabl[1,1])/10000\n",
    "    accuracy_t.append(ac)\n",
    "df_ac=pd.DataFrame({\"model\": model_names , \"accuracy\": accuracy_t})\n",
    "df_ac.sort_values(by=\"accuracy\",ascending = False)"
   ]
  },
  {
   "cell_type": "markdown",
   "id": "85e628c2-c1ff-42a8-b6e3-fcabea8f3c77",
   "metadata": {},
   "source": [
    "AND THE BEST MODEL WAS"
   ]
  },
  {
   "cell_type": "code",
   "execution_count": 43,
   "id": "dffe41b0-7910-4256-adf4-1e3b6aa3c9bb",
   "metadata": {
    "executionCancelledAt": null,
    "executionTime": 108,
    "lastExecutedAt": 1703191716480,
    "lastScheduledRunId": null,
    "lastSuccessfullyExecutedCode": "best_feature_df=df_ac.sort_values(by=\"accuracy\",ascending = False)\nbest_feature_df.iloc[[0]]",
    "outputsMetadata": {
     "0": {
      "height": 98,
      "type": "dataFrame"
     }
    }
   },
   "outputs": [
    {
     "data": {
      "application/com.datacamp.data-table.v2+json": {
       "table": {
        "data": {
         "accuracy": [
          0.7771
         ],
         "index": [
          2
         ],
         "model": [
          "mdl_driving_experience"
         ]
        },
        "schema": {
         "fields": [
          {
           "name": "index",
           "type": "integer"
          },
          {
           "name": "model",
           "type": "string"
          },
          {
           "name": "accuracy",
           "type": "number"
          }
         ],
         "pandas_version": "1.4.0",
         "primaryKey": [
          "index"
         ]
        }
       },
       "total_rows": 1,
       "truncation_type": null
      },
      "text/html": [
       "<div>\n",
       "<style scoped>\n",
       "    .dataframe tbody tr th:only-of-type {\n",
       "        vertical-align: middle;\n",
       "    }\n",
       "\n",
       "    .dataframe tbody tr th {\n",
       "        vertical-align: top;\n",
       "    }\n",
       "\n",
       "    .dataframe thead th {\n",
       "        text-align: right;\n",
       "    }\n",
       "</style>\n",
       "<table border=\"1\" class=\"dataframe\">\n",
       "  <thead>\n",
       "    <tr style=\"text-align: right;\">\n",
       "      <th></th>\n",
       "      <th>model</th>\n",
       "      <th>accuracy</th>\n",
       "    </tr>\n",
       "  </thead>\n",
       "  <tbody>\n",
       "    <tr>\n",
       "      <th>2</th>\n",
       "      <td>mdl_driving_experience</td>\n",
       "      <td>0.7771</td>\n",
       "    </tr>\n",
       "  </tbody>\n",
       "</table>\n",
       "</div>"
      ],
      "text/plain": [
       "                    model  accuracy\n",
       "2  mdl_driving_experience    0.7771"
      ]
     },
     "execution_count": 43,
     "metadata": {},
     "output_type": "execute_result"
    }
   ],
   "source": [
    "best_feature_df=df_ac.sort_values(by=\"accuracy\",ascending = False)\n",
    "best_feature_df.iloc[[0]]"
   ]
  }
 ],
 "metadata": {
  "colab": {
   "name": "Welcome to DataCamp Workspaces.ipynb",
   "provenance": []
  },
  "editor": "DataCamp Workspace",
  "kernelspec": {
   "display_name": "Python 3 (ipykernel)",
   "language": "python",
   "name": "python3"
  },
  "language_info": {
   "codemirror_mode": {
    "name": "ipython",
    "version": 3
   },
   "file_extension": ".py",
   "mimetype": "text/x-python",
   "name": "python",
   "nbconvert_exporter": "python",
   "pygments_lexer": "ipython3",
   "version": "3.11.4"
  },
  "vscode": {
   "interpreter": {
    "hash": "aee8b7b246df8f9039afb4144a1f6fd8d2ca17a180786b69acc140d282b71a49"
   }
  }
 },
 "nbformat": 4,
 "nbformat_minor": 5
}
